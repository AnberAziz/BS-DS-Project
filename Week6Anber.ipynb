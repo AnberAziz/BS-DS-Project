{
  "nbformat": 4,
  "nbformat_minor": 0,
  "metadata": {
    "colab": {
      "provenance": [],
      "authorship_tag": "ABX9TyMV0RZBlpEOifYiUi/77A6m",
      "include_colab_link": true
    },
    "kernelspec": {
      "name": "python3",
      "display_name": "Python 3"
    },
    "language_info": {
      "name": "python"
    }
  },
  "cells": [
    {
      "cell_type": "markdown",
      "metadata": {
        "id": "view-in-github",
        "colab_type": "text"
      },
      "source": [
        "<a href=\"https://colab.research.google.com/github/AnberAziz/BS-DS-Project/blob/main/Week6Anber.ipynb\" target=\"_parent\"><img src=\"https://colab.research.google.com/assets/colab-badge.svg\" alt=\"Open In Colab\"/></a>"
      ]
    },
    {
      "cell_type": "code",
      "execution_count": 1,
      "metadata": {
        "colab": {
          "base_uri": "https://localhost:8080/",
          "height": 107
        },
        "id": "qUjS5t6haNHe",
        "outputId": "b3183d42-d28e-45ca-d6a2-e83b4ad829ee"
      },
      "outputs": [
        {
          "output_type": "stream",
          "name": "stdout",
          "text": [
            "--- Please upload your 'kaggle.json' file ---\n"
          ]
        },
        {
          "output_type": "display_data",
          "data": {
            "text/plain": [
              "<IPython.core.display.HTML object>"
            ],
            "text/html": [
              "\n",
              "     <input type=\"file\" id=\"files-4ceea25a-a0fb-49ec-ac7d-85da15e1b8ac\" name=\"files[]\" multiple disabled\n",
              "        style=\"border:none\" />\n",
              "     <output id=\"result-4ceea25a-a0fb-49ec-ac7d-85da15e1b8ac\">\n",
              "      Upload widget is only available when the cell has been executed in the\n",
              "      current browser session. Please rerun this cell to enable.\n",
              "      </output>\n",
              "      <script>// Copyright 2017 Google LLC\n",
              "//\n",
              "// Licensed under the Apache License, Version 2.0 (the \"License\");\n",
              "// you may not use this file except in compliance with the License.\n",
              "// You may obtain a copy of the License at\n",
              "//\n",
              "//      http://www.apache.org/licenses/LICENSE-2.0\n",
              "//\n",
              "// Unless required by applicable law or agreed to in writing, software\n",
              "// distributed under the License is distributed on an \"AS IS\" BASIS,\n",
              "// WITHOUT WARRANTIES OR CONDITIONS OF ANY KIND, either express or implied.\n",
              "// See the License for the specific language governing permissions and\n",
              "// limitations under the License.\n",
              "\n",
              "/**\n",
              " * @fileoverview Helpers for google.colab Python module.\n",
              " */\n",
              "(function(scope) {\n",
              "function span(text, styleAttributes = {}) {\n",
              "  const element = document.createElement('span');\n",
              "  element.textContent = text;\n",
              "  for (const key of Object.keys(styleAttributes)) {\n",
              "    element.style[key] = styleAttributes[key];\n",
              "  }\n",
              "  return element;\n",
              "}\n",
              "\n",
              "// Max number of bytes which will be uploaded at a time.\n",
              "const MAX_PAYLOAD_SIZE = 100 * 1024;\n",
              "\n",
              "function _uploadFiles(inputId, outputId) {\n",
              "  const steps = uploadFilesStep(inputId, outputId);\n",
              "  const outputElement = document.getElementById(outputId);\n",
              "  // Cache steps on the outputElement to make it available for the next call\n",
              "  // to uploadFilesContinue from Python.\n",
              "  outputElement.steps = steps;\n",
              "\n",
              "  return _uploadFilesContinue(outputId);\n",
              "}\n",
              "\n",
              "// This is roughly an async generator (not supported in the browser yet),\n",
              "// where there are multiple asynchronous steps and the Python side is going\n",
              "// to poll for completion of each step.\n",
              "// This uses a Promise to block the python side on completion of each step,\n",
              "// then passes the result of the previous step as the input to the next step.\n",
              "function _uploadFilesContinue(outputId) {\n",
              "  const outputElement = document.getElementById(outputId);\n",
              "  const steps = outputElement.steps;\n",
              "\n",
              "  const next = steps.next(outputElement.lastPromiseValue);\n",
              "  return Promise.resolve(next.value.promise).then((value) => {\n",
              "    // Cache the last promise value to make it available to the next\n",
              "    // step of the generator.\n",
              "    outputElement.lastPromiseValue = value;\n",
              "    return next.value.response;\n",
              "  });\n",
              "}\n",
              "\n",
              "/**\n",
              " * Generator function which is called between each async step of the upload\n",
              " * process.\n",
              " * @param {string} inputId Element ID of the input file picker element.\n",
              " * @param {string} outputId Element ID of the output display.\n",
              " * @return {!Iterable<!Object>} Iterable of next steps.\n",
              " */\n",
              "function* uploadFilesStep(inputId, outputId) {\n",
              "  const inputElement = document.getElementById(inputId);\n",
              "  inputElement.disabled = false;\n",
              "\n",
              "  const outputElement = document.getElementById(outputId);\n",
              "  outputElement.innerHTML = '';\n",
              "\n",
              "  const pickedPromise = new Promise((resolve) => {\n",
              "    inputElement.addEventListener('change', (e) => {\n",
              "      resolve(e.target.files);\n",
              "    });\n",
              "  });\n",
              "\n",
              "  const cancel = document.createElement('button');\n",
              "  inputElement.parentElement.appendChild(cancel);\n",
              "  cancel.textContent = 'Cancel upload';\n",
              "  const cancelPromise = new Promise((resolve) => {\n",
              "    cancel.onclick = () => {\n",
              "      resolve(null);\n",
              "    };\n",
              "  });\n",
              "\n",
              "  // Wait for the user to pick the files.\n",
              "  const files = yield {\n",
              "    promise: Promise.race([pickedPromise, cancelPromise]),\n",
              "    response: {\n",
              "      action: 'starting',\n",
              "    }\n",
              "  };\n",
              "\n",
              "  cancel.remove();\n",
              "\n",
              "  // Disable the input element since further picks are not allowed.\n",
              "  inputElement.disabled = true;\n",
              "\n",
              "  if (!files) {\n",
              "    return {\n",
              "      response: {\n",
              "        action: 'complete',\n",
              "      }\n",
              "    };\n",
              "  }\n",
              "\n",
              "  for (const file of files) {\n",
              "    const li = document.createElement('li');\n",
              "    li.append(span(file.name, {fontWeight: 'bold'}));\n",
              "    li.append(span(\n",
              "        `(${file.type || 'n/a'}) - ${file.size} bytes, ` +\n",
              "        `last modified: ${\n",
              "            file.lastModifiedDate ? file.lastModifiedDate.toLocaleDateString() :\n",
              "                                    'n/a'} - `));\n",
              "    const percent = span('0% done');\n",
              "    li.appendChild(percent);\n",
              "\n",
              "    outputElement.appendChild(li);\n",
              "\n",
              "    const fileDataPromise = new Promise((resolve) => {\n",
              "      const reader = new FileReader();\n",
              "      reader.onload = (e) => {\n",
              "        resolve(e.target.result);\n",
              "      };\n",
              "      reader.readAsArrayBuffer(file);\n",
              "    });\n",
              "    // Wait for the data to be ready.\n",
              "    let fileData = yield {\n",
              "      promise: fileDataPromise,\n",
              "      response: {\n",
              "        action: 'continue',\n",
              "      }\n",
              "    };\n",
              "\n",
              "    // Use a chunked sending to avoid message size limits. See b/62115660.\n",
              "    let position = 0;\n",
              "    do {\n",
              "      const length = Math.min(fileData.byteLength - position, MAX_PAYLOAD_SIZE);\n",
              "      const chunk = new Uint8Array(fileData, position, length);\n",
              "      position += length;\n",
              "\n",
              "      const base64 = btoa(String.fromCharCode.apply(null, chunk));\n",
              "      yield {\n",
              "        response: {\n",
              "          action: 'append',\n",
              "          file: file.name,\n",
              "          data: base64,\n",
              "        },\n",
              "      };\n",
              "\n",
              "      let percentDone = fileData.byteLength === 0 ?\n",
              "          100 :\n",
              "          Math.round((position / fileData.byteLength) * 100);\n",
              "      percent.textContent = `${percentDone}% done`;\n",
              "\n",
              "    } while (position < fileData.byteLength);\n",
              "  }\n",
              "\n",
              "  // All done.\n",
              "  yield {\n",
              "    response: {\n",
              "      action: 'complete',\n",
              "    }\n",
              "  };\n",
              "}\n",
              "\n",
              "scope.google = scope.google || {};\n",
              "scope.google.colab = scope.google.colab || {};\n",
              "scope.google.colab._files = {\n",
              "  _uploadFiles,\n",
              "  _uploadFilesContinue,\n",
              "};\n",
              "})(self);\n",
              "</script> "
            ]
          },
          "metadata": {}
        },
        {
          "output_type": "stream",
          "name": "stdout",
          "text": [
            "Saving kaggle.json to kaggle.json\n"
          ]
        },
        {
          "output_type": "execute_result",
          "data": {
            "text/plain": [
              "{'kaggle.json': b'{\"username\":\"anberaziz\",\"key\":\"51b0632a958ba40eb6e93d29e8ea615c\"}'}"
            ]
          },
          "metadata": {},
          "execution_count": 1
        }
      ],
      "source": [
        "from google.colab import files\n",
        "\n",
        "print(\"--- Please upload your 'kaggle.json' file ---\")\n",
        "# This will prompt you to upload the kaggle.json file\n",
        "files.upload()"
      ]
    },
    {
      "cell_type": "code",
      "source": [
        "# -----------------------------------------------------------------------\n",
        "# Part 1: Environment Setup & Data Collection (from Week 1)\n",
        "# -----------------------------------------------------------------------\n",
        "print(\"--- Part 1: Setting up Kaggle and Downloading Dataset ---\")\n",
        "\n",
        "# 1. Install Kaggle library\n",
        "!pip install kaggle scikit-learn -q\n",
        "\n",
        "# 2. Set up the Kaggle API token\n",
        "!mkdir -p ~/.kaggle\n",
        "!mv kaggle.json ~/.kaggle/\n",
        "!chmod 600 ~/.kaggle/kaggle.json\n",
        "print(\"Kaggle API token installed.\")\n",
        "\n",
        "# 3. Download the dataset\n",
        "!kaggle datasets download -d aljarah/xAPI-Edu-Data -q\n",
        "\n",
        "# 4. Unzip the dataset (with bug fix from last week)\n",
        "!unzip -oq xAPI-Edu-Data.zip\n",
        "print(\"--- Setup Complete. Dataset 'xAPI-Edu-Data.csv' is ready. ---\")"
      ],
      "metadata": {
        "colab": {
          "base_uri": "https://localhost:8080/"
        },
        "id": "nti7dL8Caat6",
        "outputId": "1d5751cd-4eb9-42b0-cb02-13d991417657"
      },
      "execution_count": 2,
      "outputs": [
        {
          "output_type": "stream",
          "name": "stdout",
          "text": [
            "--- Part 1: Setting up Kaggle and Downloading Dataset ---\n",
            "Kaggle API token installed.\n",
            "Dataset URL: https://www.kaggle.com/datasets/aljarah/xAPI-Edu-Data\n",
            "License(s): CC-BY-SA-4.0\n",
            "--- Setup Complete. Dataset 'xAPI-Edu-Data.csv' is ready. ---\n"
          ]
        }
      ]
    },
    {
      "cell_type": "code",
      "source": [
        "# -----------------------------------------------------------------------\n",
        "# Part 2: Load Libraries and Clean Data (from Week 2)\n",
        "# -----------------------------------------------------------------------\n",
        "print(\"\\n--- Part 2: Loading Libraries and Cleaning Data ---\")\n",
        "\n",
        "import pandas as pd\n",
        "import numpy as np\n",
        "import matplotlib.pyplot as plt\n",
        "import seaborn as sns\n",
        "\n",
        "# -- NEW LIBRARIES FOR SKLEARN (Week 6) --\n",
        "from sklearn.model_selection import train_test_split\n",
        "from sklearn.linear_model import LogisticRegression\n",
        "from sklearn.tree import DecisionTreeClassifier\n",
        "from sklearn.ensemble import RandomForestClassifier\n",
        "from sklearn.metrics import accuracy_score\n",
        "\n",
        "print(\"All libraries imported.\")\n",
        "\n",
        "# 3. Load and Clean Data\n",
        "df = pd.read_csv('xAPI-Edu-Data.csv')\n",
        "df_cleaned = df.copy()\n",
        "\n",
        "# Rename columns\n",
        "df_cleaned.rename(columns={\n",
        "    'gender': 'gender', 'NationalITy': 'nationality', 'PlaceofBirth': 'place_of_birth',\n",
        "    'StageID': 'stage_id', 'GradeID': 'grade_id', 'SectionID': 'section_id',\n",
        "    'Topic': 'topic', 'Semester': 'semester', 'Relation': 'relation',\n",
        "    'raisedhands': 'raised_hands', 'VisITedResources': 'visited_resources',\n",
        "    'AnnouncementsView': 'announcements_view', 'Discussion': 'discussion',\n",
        "    'ParentAnsweringSurvey': 'parent_answering_survey',\n",
        "    'ParentschoolSatisfaction': 'parent_school_satisfaction',\n",
        "    'StudentAbsenceDays': 'student_absence_days', 'Class': 'class_label'\n",
        "}, inplace=True)\n",
        "\n",
        "# Drop duplicates\n",
        "df_cleaned = df_cleaned.drop_duplicates()\n",
        "print(f\"Removed {df_cleaned.duplicated().sum()} duplicate rows.\")\n",
        "\n",
        "# Encode binary features (from Week 2)\n",
        "df_cleaned['student_absence_days'] = df_cleaned['student_absence_days'].map({'Under-7': 0, 'Above-7': 1})\n",
        "df_cleaned['parent_answering_survey'] = df_cleaned['parent_answering_survey'].map({'Yes': 1, 'No': 0})\n",
        "df_cleaned['parent_school_satisfaction'] = df_cleaned['parent_school_satisfaction'].map({'Good': 1, 'Bad': 0})\n",
        "df_cleaned['gender'] = df_cleaned['gender'].map({'M': 1, 'F': 0})\n",
        "print(\"Encoded binary features (absences, parent survey, gender).\")"
      ],
      "metadata": {
        "colab": {
          "base_uri": "https://localhost:8080/"
        },
        "id": "fd-m5Be6affC",
        "outputId": "63e89964-6295-4a3d-e836-e7f912987a04"
      },
      "execution_count": 3,
      "outputs": [
        {
          "output_type": "stream",
          "name": "stdout",
          "text": [
            "\n",
            "--- Part 2: Loading Libraries and Cleaning Data ---\n",
            "All libraries imported.\n",
            "Removed 0 duplicate rows.\n",
            "Encoded binary features (absences, parent survey, gender).\n"
          ]
        }
      ]
    },
    {
      "cell_type": "code",
      "source": [
        "# -----------------------------------------------------------------------\n",
        "# Part 3: Week 6 - Feature Engineering for Classification\n",
        "# -----------------------------------------------------------------------\n",
        "print(\"\\n--- Part 3: Week 6 Feature Engineering ---\")\n",
        "\n",
        "# We must convert ALL text columns to numbers for the model.\n",
        "# We use One-Hot Encoding ('get_dummies') for this.\n",
        "categorical_features = [\n",
        "    'nationality', 'place_of_birth', 'stage_id', 'grade_id',\n",
        "    'section_id', 'topic', 'semester', 'relation'\n",
        "]\n",
        "\n",
        "print(f\"Original shape before One-Hot Encoding: {df_cleaned.shape}\")\n",
        "df_processed = pd.get_dummies(df_cleaned, columns=categorical_features, drop_first=True)\n",
        "print(f\"New shape after One-Hot Encoding: {df_processed.shape}\")\n",
        "print(f\"Categorical features converted to {df_processed.shape[1] - df_cleaned.shape[1]} new numerical columns.\")"
      ],
      "metadata": {
        "colab": {
          "base_uri": "https://localhost:8080/"
        },
        "id": "3-MDzLfLak1I",
        "outputId": "23d6f1c7-a615-41d2-fb52-87f09389f8ca"
      },
      "execution_count": 4,
      "outputs": [
        {
          "output_type": "stream",
          "name": "stdout",
          "text": [
            "\n",
            "--- Part 3: Week 6 Feature Engineering ---\n",
            "Original shape before One-Hot Encoding: (478, 17)\n",
            "New shape after One-Hot Encoding: (478, 61)\n",
            "Categorical features converted to 44 new numerical columns.\n"
          ]
        }
      ]
    },
    {
      "cell_type": "code",
      "source": [
        "# -----------------------------------------------------------------------\n",
        "# Part 4: Week 6 - Train Baseline Classification Models\n",
        "# -----------------------------------------------------------------------\n",
        "print(\"\\n--- Part 4: Week 6 Model Training & Comparison ---\")\n",
        "\n",
        "# 1. Define our features (X) and target (y)\n",
        "# X is everything EXCEPT our target variable.\n",
        "X = df_processed.drop('class_label', axis=1)\n",
        "# y IS our target variable.\n",
        "y = df_processed['class_label']\n",
        "\n",
        "# 2. Split the data\n",
        "# We use 'stratify=y' to ensure all classes (L, M, H) are\n",
        "# represented proportionally in both train and test sets.\n",
        "X_train, X_test, y_train, y_test = train_test_split(X, y, test_size=0.2, random_state=42, stratify=y)\n",
        "print(f\"Data split into {len(X_train)} training samples and {len(X_test)} testing samples.\")\n",
        "\n",
        "# 3. Initialize models (Class Task & Assignment 6)\n",
        "models = {\n",
        "    \"Logistic Regression\": LogisticRegression(max_iter=1000),\n",
        "    \"Decision Tree\": DecisionTreeClassifier(random_state=42),\n",
        "    \"Random Forest\": RandomForestClassifier(random_state=42)\n",
        "}\n",
        "\n",
        "# 4. Train and Evaluate\n",
        "results = {}\n",
        "for model_name, model in models.items():\n",
        "    print(f\"\\nTraining {model_name}...\")\n",
        "\n",
        "    # Train (fit) the model\n",
        "    model.fit(X_train, y_train)\n",
        "\n",
        "    # Make predictions on the test set\n",
        "    y_pred = model.predict(X_test)\n",
        "\n",
        "    # Calculate accuracy\n",
        "    accuracy = accuracy_score(y_test, y_pred)\n",
        "    results[model_name] = accuracy\n",
        "\n",
        "# --- Assignment 6: Compare Accuracy ---\n",
        "print(\"\\n--- Assignment 6: Model Accuracy Comparison ---\")\n",
        "print(\"This fulfills the Project Milestone: Baseline classification model built.\")\n",
        "\n",
        "# Sort results by accuracy\n",
        "sorted_results = sorted(results.items(), key=lambda item: item[1], reverse=True)\n",
        "\n",
        "for model_name, accuracy in sorted_results:\n",
        "    print(f\"  {model_name}: {accuracy * 100:.2f}% Accuracy\")\n",
        "\n",
        "best_model_name = sorted_results[0][0]\n",
        "print(f\"\\n🏆 Best Baseline Model: {best_model_name}\")\n",
        "print(\"\\n--- Week 6 Complete! ---\")"
      ],
      "metadata": {
        "colab": {
          "base_uri": "https://localhost:8080/"
        },
        "id": "ocss1beAaomH",
        "outputId": "385c7079-f944-43ea-cd01-c66a97bca2de"
      },
      "execution_count": 5,
      "outputs": [
        {
          "output_type": "stream",
          "name": "stdout",
          "text": [
            "\n",
            "--- Part 4: Week 6 Model Training & Comparison ---\n",
            "Data split into 382 training samples and 96 testing samples.\n",
            "\n",
            "Training Logistic Regression...\n"
          ]
        },
        {
          "output_type": "stream",
          "name": "stderr",
          "text": [
            "/usr/local/lib/python3.12/dist-packages/sklearn/linear_model/_logistic.py:465: ConvergenceWarning: lbfgs failed to converge (status=1):\n",
            "STOP: TOTAL NO. OF ITERATIONS REACHED LIMIT.\n",
            "\n",
            "Increase the number of iterations (max_iter) or scale the data as shown in:\n",
            "    https://scikit-learn.org/stable/modules/preprocessing.html\n",
            "Please also refer to the documentation for alternative solver options:\n",
            "    https://scikit-learn.org/stable/modules/linear_model.html#logistic-regression\n",
            "  n_iter_i = _check_optimize_result(\n"
          ]
        },
        {
          "output_type": "stream",
          "name": "stdout",
          "text": [
            "\n",
            "Training Decision Tree...\n",
            "\n",
            "Training Random Forest...\n",
            "\n",
            "--- Assignment 6: Model Accuracy Comparison ---\n",
            "This fulfills the Project Milestone: Baseline classification model built.\n",
            "  Random Forest: 80.21% Accuracy\n",
            "  Logistic Regression: 73.96% Accuracy\n",
            "  Decision Tree: 68.75% Accuracy\n",
            "\n",
            "🏆 Best Baseline Model: Random Forest\n",
            "\n",
            "--- Week 6 Complete! ---\n"
          ]
        }
      ]
    }
  ]
}